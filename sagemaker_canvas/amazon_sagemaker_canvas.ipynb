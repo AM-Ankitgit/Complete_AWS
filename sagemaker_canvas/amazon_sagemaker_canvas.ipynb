{
 "cells": [
  {
   "cell_type": "code",
   "execution_count": null,
   "metadata": {},
   "outputs": [],
   "source": [
    "go to amazon sagemaker :\n",
    "find the canvas and create\n",
    "then go back\n",
    "launch it\n"
   ]
  },
  {
   "cell_type": "code",
   "execution_count": null,
   "metadata": {},
   "outputs": [],
   "source": [
    "# canvas is no need to write code \n",
    "\n",
    "# it provide the platform in just few click we can build the model and get endpoint for our model prediction"
   ]
  }
 ],
 "metadata": {
  "language_info": {
   "name": "python"
  }
 },
 "nbformat": 4,
 "nbformat_minor": 2
}
